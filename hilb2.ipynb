{
 "cells": [
  {
   "cell_type": "markdown",
   "metadata": {},
   "source": [
    "# Hilbert Transform "
   ]
  },
  {
   "cell_type": "markdown",
   "metadata": {},
   "source": [
    "An analysis of the hilbert transform of the equation using the Rational Eigenfunction Expansion Method: \n",
    "\n",
    "$$Z(\\tau, \\omega)= \\frac{1}{1+(\\omega\\tau)^2}$$\n",
    "\n",
    "with an algorithm developed by Andre Weideman. This will be in respect to $\\omega$ for values of $\\tau$ ranging from $\\tau=10^{-3},10^{-2}...10^3$, with a hilbert transform output in the range of:"
   ]
  },
  {
   "cell_type": "code",
   "execution_count": 1,
   "metadata": {},
   "outputs": [],
   "source": [
    "import numpy as np\n",
    "omega_vec = np.logspace(4, -4, 81, endpoint=True)"
   ]
  },
  {
   "cell_type": "markdown",
   "metadata": {},
   "source": [
    "The following function is the original algorithm designed to compute the hilbert transform of a function, modified slightly to accomodate the above equation. The parameters below, namely _N_, will be used in the following code to define the set and number of collocation points that will be taken as inputs to return hilbert transform values of the original function. The _b_ value is a scaling parameter, and choosing the optimal value requires a certain amount of trial and error which will be explored later. _y_ determines the value of the exponent of 10 and thus the value of $\\tau$."
   ]
  },
  {
   "cell_type": "code",
   "execution_count": 2,
   "metadata": {},
   "outputs": [],
   "source": [
    "def hilb2(N, b, y):                                \n",
    "    n = np.array(range(-N,N))                      # number of terms in the expansion\n",
    "    x = b*np.tan(np.pi*(n+(1/2))/(2*N))            # set of collocation points\n",
    "    f = np.array(1/(1+((10**y)*x)**2))             # Z function   \n",
    "    x.flatten()                                   \n",
    "    f.flatten()                                    # ensures that x and F are column vectors     \n",
    "    \n",
    "    a = np.fft.fftshift(np.fft.fft(f*(b-1j*x)))\n",
    "    h = np.fft.ifft(np.fft.fftshift(1j*(np.sign(n+1/2)*a)))/(b-1j*x) # algorithm values\n",
    "    \n",
    "    return(x, h.real, b, N)                        # returns x values and corresponding approximated ht values"
   ]
  },
  {
   "cell_type": "markdown",
   "metadata": {},
   "source": [
    "This function returns exact hilbert transform values of the original _Z_ function using the literature equivalent found in Volume 2 of Hilbert Transforms by Frederick W. King:\n",
    "$$-x(x^2+a^2)^{-1}$$\n",
    "where _x_ is equal to $\\omega\\tau$ and _a_ is equal to 1."
   ]
  },
  {
   "cell_type": "code",
   "execution_count": 3,
   "metadata": {
    "scrolled": false
   },
   "outputs": [],
   "source": [
    "def exactht(y):\n",
    "    omega = []\n",
    "    xx = []\n",
    "    \n",
    "    for i in range(len(omega_vec)):\n",
    "        w = omega_vec[i]\n",
    "        omega.append(w)            # omega values in specified range\n",
    "        \n",
    "        a = w*(10**y)\n",
    "        exact_values = -a*((1+a**2)**(-1))    # exact values\n",
    "        xx.append(exact_values)\n",
    "    \n",
    "    return(omega, xx, y)          # returns omega values and exact hilbert transform values, and y for plotting"
   ]
  },
  {
   "cell_type": "markdown",
   "metadata": {},
   "source": [
    "To find an optimum value of _b_ based on a designated number of collocation points determined by _N_, the following code was used. The mean squared error between the algorithm values and exact values was the statistical measurement utilised. The table below showes the optimum b value for each corresponding input of _y_ and _N_ with _N_ being 64, 128, 256, and 512."
   ]
  },
  {
   "cell_type": "code",
   "execution_count": 4,
   "metadata": {},
   "outputs": [],
   "source": [
    "def optb(ht, N, y):\n",
    "     \n",
    "     mse = 999999\n",
    "     \n",
    "     for i in range(1,1000):              # determines optimum b value up to 1000\n",
    "         exact_values = []\n",
    "         approx_values = ht(N, i, y)[1]   # uses code in [2] to apply algorithm values\n",
    "         \n",
    "         if ht(N, i, y)[0][2*N-1] >=10**4: # if the b value causes the x value to exceed\n",
    "             break                         # 10^4 or the range of omega, it is excluded\n",
    "                \n",
    "         for s in range(len(ht(N, i, y)[0])):\n",
    "            w = ht(N, i, y)[0][s]\n",
    "            a = w*(10**y)\n",
    "            l_val = -a*((1+a**2)**(-1))    # computes exact values\n",
    "            \n",
    "            exact_values.append(l_val)\n",
    "            \n",
    "         difference_array = np.subtract(approx_values, exact_values)\n",
    "         squared_array = np.square(difference_array)\n",
    "         similarity = squared_array.mean() # computes MSE\n",
    "            \n",
    "         if abs(similarity) < mse:         # determines b value with lowest resulting MSE\n",
    "            mse = similarity\n",
    "            optimal_b = i\n",
    "   \n",
    "     print(\"The optimal b value is b=\" + str(optimal_b) + \" with MSE = \" + str(mse))\n",
    "   \n",
    "     return(optimal_b)"
   ]
  },
  {
   "cell_type": "markdown",
   "metadata": {},
   "source": [
    "|y value|N value|Optimal b value|MSE    |\n",
    "|-------|-------|---------------|-------|\n",
    "|-3     |64     |122            |7.9e-14|\n",
    "|-3     |128    |61             |9.6e-14|\n",
    "|-3     |256    |30             |1.7e-13|\n",
    "|-3     |512    |15             |1.8e-13|\n",
    "|-2     |64     |121            |5.6e-33|\n",
    "|-2     |128    |61             |1.4e-33|\n",
    "|-2     |256    |28             |2.9e-32|\n",
    "|-2     |512    |15             |6.1e-32|\n",
    "|-1     |64     |28             |4.0e-33|\n",
    "|-1     |128    |52             |2.7e-33|\n",
    "|-1     |256    |24             |4.8e-33|\n",
    "|-1     |512    |14             |8.2e-33|\n",
    "|0      |64     |3              |3.3e-33|\n",
    "|0      |128    |5              |2.5e-33|\n",
    "|0      |256    |13             |1.6e-33|\n",
    "|0      |512    |15             |1.5e-33|\n",
    "|1      |64     |1              |1.4e-12|\n",
    "|1      |128    |1              |9.7e-24|\n",
    "|1      |256    |1              |2.2e-33|\n",
    "|1      |512    |2              |1.3e-33|\n",
    "|2      |64     |122            |8.4e-07|\n",
    "|2      |128    |61             |6.6e-06|\n",
    "|2      |256    |1              |7.1e-07|\n",
    "|2      |512    |1              |2.5e-11|\n",
    "|3      |64     |122            |8.5e-09|\n",
    "|3      |128    |61             |6.8e-08|\n",
    "|3      |256    |30             |5.6e-07|\n",
    "|3      |512    |15             |4.2e-06|"
   ]
  },
  {
   "cell_type": "markdown",
   "metadata": {},
   "source": [
    "From this, all the necessary parameters are available  for plotting:"
   ]
  },
  {
   "cell_type": "code",
   "execution_count": 5,
   "metadata": {},
   "outputs": [],
   "source": [
    "%matplotlib inline\n",
    "import matplotlib.pyplot as plt\n",
    "def hplot(ht1, ht2):                                                    # Plot hilbert transform graphs\n",
    "    plt.xscale('log')\n",
    "    \n",
    "      \n",
    "    plt.plot(                                                           # Approximate transform values\n",
    "        ht1[0], ht1[1], \n",
    "        linestyle=\"None\", marker='o', markerfacecolor='None',  \n",
    "        markeredgecolor='black', markeredgewidth='0.5',label=\"Numerical\"\n",
    "    )                                                           \n",
    "    \n",
    "    plt.plot(                                                           # Exact transform values\n",
    "        ht2[0], ht2[1], \n",
    "        'black', label=\"Analytical\"\n",
    "    )                                                           \n",
    "\n",
    "    plt.title(\"Hilbert Transform of $Z=1/(1+10^{\" + str(ht2[2]) + \"}*\\omega$)\")\n",
    "    plt.xlabel(\"$\\omega$\")\n",
    "    plt.ylabel(\"h\")\n",
    "    plt.legend(loc='upper left')\n",
    "    plt.figtext(0.99, 0.01, 'b='+ str(ht1[2]) + ', N=' + str(ht1[3]), horizontalalignment='right')\n",
    " \n",
    "    plt.grid(which='major', linestyle='-', linewidth=1)"
   ]
  },
  {
   "cell_type": "code",
   "execution_count": 6,
   "metadata": {},
   "outputs": [
    {
     "data": {
      "image/png": "[encoded data removed]",
      "text/plain": [
       "<Figure size 432x288 with 1 Axes>"
      ]
     },
     "metadata": {
      "needs_background": "light"
     },
     "output_type": "display_data"
    }
   ],
   "source": [
    "hplot(hilb2(64, 122, -3), exactht(-3)) # Plotting the hilbert transform of Z when y = -3, with 64 collocation points"
   ]
  },
  {
   "cell_type": "markdown",
   "metadata": {},
   "source": [
    "For error analysis, the following functions were written to calculate and then plot the residual:"
   ]
  },
  {
   "cell_type": "code",
   "execution_count": 7,
   "metadata": {},
   "outputs": [],
   "source": [
    "def resid_calc(ht, N, b, y):\n",
    "    resid_values = []\n",
    "    approx_values = ht(N, b, y)[1]                 # algorithm values\n",
    "         \n",
    "    for i in range(len(ht(N, b, y)[0])):\n",
    "        w = ht(N, b, y)[0][i]\n",
    "        a = w*(10**y)\n",
    "        l_val = -a*((1+a**2)**(-1))       # computes exact values\n",
    "            \n",
    "        residual = abs(approx_values[i]-l_val)  # computes residual  \n",
    "        resid_values.append(residual)\n",
    "            \n",
    "    return(resid_values, y, b, N)"
   ]
  },
  {
   "cell_type": "code",
   "execution_count": 8,
   "metadata": {},
   "outputs": [],
   "source": [
    "def resplot(x, resid_calc): # plot residual graphs using resid_calc function\n",
    "    plt.xscale('log')\n",
    "    plt.yscale('log')\n",
    "    \n",
    "    plt.plot(\n",
    "         x, resid_calc[0], linestyle=\"None\", marker='.', markerfacecolor=\"None\", # Create plot\n",
    "         markeredgecolor='navy', markeredgewidth=0.5 \n",
    "    )\n",
    "    \n",
    "    plt.title(\"Residual Plot of $Z=1/(1+10^{\" + str(resid_calc[1]) + \"}*\\omega$)\")\n",
    "    plt.xlabel(\"$\\omega$\")\n",
    "    plt.ylabel(\"Residual of h\")\n",
    "    plt.grid(which='major', linestyle='-', linewidth=1)\n",
    "    plt.figtext(0.99, 0.01, 'b='+ str(resid_calc[2]) + ', N=' + str(resid_calc[3]), horizontalalignment='right')"
   ]
  },
  {
   "cell_type": "code",
   "execution_count": 9,
   "metadata": {},
   "outputs": [
    {
     "data": {
      "image/png": "[encoded data removed]",
      "text/plain": [
       "<Figure size 432x288 with 1 Axes>"
      ]
     },
     "metadata": {
      "needs_background": "light"
     },
     "output_type": "display_data"
    }
   ],
   "source": [
    "resplot(hilb2(64, 122, -3)[0], resid_calc(hilb2, 64, 122, -3)) # Plotting residuals of transform of the same values"
   ]
  }
 ],
 "metadata": {
  "kernelspec": {
   "display_name": "Python 3",
   "language": "python",
   "name": "python3"
  },
  "language_info": {
   "codemirror_mode": {
    "name": "ipython",
    "version": 3
   },
   "file_extension": ".py",
   "mimetype": "text/x-python",
   "name": "python",
   "nbconvert_exporter": "python",
   "pygments_lexer": "ipython3",
   "version": "3.8.3"
  }
 },
 "nbformat": 4,
 "nbformat_minor": 4
}
